{
 "cells": [
  {
   "cell_type": "code",
   "execution_count": 3,
   "metadata": {},
   "outputs": [],
   "source": [
    "def inversion(arr,size):\n",
    "    count=0\n",
    "    for i in range(size-1):\n",
    "        for j in range(i+1,size):\n",
    "            if i < j and arr[i] > arr[j]:\n",
    "                print(arr[i],\" \", arr[j])\n",
    "                count += 1\n",
    "    print(\"Inversions: \", count)            "
   ]
  },
  {
   "cell_type": "code",
   "execution_count": 4,
   "metadata": {},
   "outputs": [
    {
     "name": "stdout",
     "output_type": "stream",
     "text": [
      "2   1\n",
      "3   1\n",
      "8   6\n",
      "8   1\n",
      "6   1\n",
      "Inversions:  5\n"
     ]
    }
   ],
   "source": [
    "arr=[2,3,8,6,1]\n",
    "size=len(arr)\n",
    "inversion(arr,size)\n"
   ]
  },
  {
   "cell_type": "code",
   "execution_count": null,
   "metadata": {},
   "outputs": [],
   "source": []
  }
 ],
 "metadata": {
  "kernelspec": {
   "display_name": "Python 3",
   "language": "python",
   "name": "python3"
  },
  "language_info": {
   "codemirror_mode": {
    "name": "ipython",
    "version": 3
   },
   "file_extension": ".py",
   "mimetype": "text/x-python",
   "name": "python",
   "nbconvert_exporter": "python",
   "pygments_lexer": "ipython3",
   "version": "3.7.5"
  }
 },
 "nbformat": 4,
 "nbformat_minor": 2
}
