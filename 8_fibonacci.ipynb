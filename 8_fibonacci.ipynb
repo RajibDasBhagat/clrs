{
 "cells": [
  {
   "cell_type": "code",
   "execution_count": 38,
   "metadata": {},
   "outputs": [],
   "source": [
    "def fiboIteartive(n):                                                                                                 \n",
    "    fibs = [0, 1, 1]                                                                                           \n",
    "    for f in range(2, n):                                                                                      \n",
    "        fibs.append(fibs[-1] + fibs[-2])                                                                         \n",
    "    return fibs[n]"
   ]
  },
  {
   "cell_type": "code",
   "execution_count": 39,
   "metadata": {},
   "outputs": [],
   "source": [
    "def fiboRecursive(n):\n",
    "    if (n <= 1):\n",
    "        return n \n",
    "    else:\n",
    "        return fiboRecursive(n-1) + fiboRecursive(n-2)"
   ]
  },
  {
   "cell_type": "code",
   "execution_count": 40,
   "metadata": {},
   "outputs": [],
   "source": [
    "import math  \n",
    "def fiboFormula(n): \n",
    "    phi = (1 + math.sqrt(5)) / 2; \n",
    "    return round(pow(phi, n) / math.sqrt(5)) "
   ]
  },
  {
   "cell_type": "code",
   "execution_count": 41,
   "metadata": {},
   "outputs": [
    {
     "name": "stdout",
     "output_type": "stream",
     "text": [
      "itera:  55\n",
      "recur:  55\n",
      "formu:  55\n"
     ]
    }
   ],
   "source": [
    "n=10\n",
    "ite=fiboIteartive(n)\n",
    "rec=fiboRecursive(n)\n",
    "form=fiboFormula(n)\n",
    "print(\"itera: \", ite)\n",
    "print(\"recur: \", rec)\n",
    "print(\"formu: \", form)"
   ]
  },
  {
   "cell_type": "code",
   "execution_count": null,
   "metadata": {},
   "outputs": [],
   "source": []
  }
 ],
 "metadata": {
  "kernelspec": {
   "display_name": "Python 3",
   "language": "python",
   "name": "python3"
  },
  "language_info": {
   "codemirror_mode": {
    "name": "ipython",
    "version": 3
   },
   "file_extension": ".py",
   "mimetype": "text/x-python",
   "name": "python",
   "nbconvert_exporter": "python",
   "pygments_lexer": "ipython3",
   "version": "3.7.5"
  }
 },
 "nbformat": 4,
 "nbformat_minor": 2
}
