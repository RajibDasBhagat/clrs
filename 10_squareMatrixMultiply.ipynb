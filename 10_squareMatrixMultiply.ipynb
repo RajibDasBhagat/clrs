{
 "cells": [
  {
   "cell_type": "code",
   "execution_count": 200,
   "metadata": {},
   "outputs": [],
   "source": [
    "def squareMultiplyIterative(a,b):\n",
    "    rows=len(a)\n",
    "    c = [[0,0],  \n",
    "         [0,0]]\n",
    "    for i in range(rows):\n",
    "        for j in range(rows):\n",
    "            for k in range(rows):\n",
    "                c[i][j] +=  a[i][k] * b[k][j]\n",
    "    return c             "
   ]
  },
  {
   "cell_type": "code",
   "execution_count": 262,
   "metadata": {},
   "outputs": [],
   "source": [
    "import types\n",
    "def squareMultiplyRecursive(a,b):\n",
    "    c = [[0,0],  \n",
    "         [0,0]]\n",
    "\n",
    "    if type(a) is int:\n",
    "        rows=1\n",
    "    else:\n",
    "        rows=len(a)\n",
    "        \n",
    "    if rows==1:\n",
    "        c = a * b\n",
    "    else:\n",
    "        c[0][0]=squareMultiplyRecursive(a[0][0],b[0][0])+squareMultiplyRecursive(a[0][1],b[1][0])\n",
    "        c[0][1]=squareMultiplyRecursive(a[0][0],b[0][1])+squareMultiplyRecursive(a[0][1],b[1][1])\n",
    "        c[1][0]=squareMultiplyRecursive(a[1][0],b[0][0])+squareMultiplyRecursive(a[1][1],b[1][0])\n",
    "        c[1][1]=squareMultiplyRecursive(a[1][0],b[0][1])+squareMultiplyRecursive(a[1][1],b[1][1])\n",
    "    return c"
   ]
  },
  {
   "cell_type": "code",
   "execution_count": 263,
   "metadata": {},
   "outputs": [
    {
     "data": {
      "text/plain": [
       "[[27, 39], [69, 114]]"
      ]
     },
     "execution_count": 263,
     "metadata": {},
     "output_type": "execute_result"
    }
   ],
   "source": [
    "a = [[1,2],  \n",
    "     [4,5]]  \n",
    " \n",
    "b = [[1,11],  \n",
    "     [13,14]]  \n",
    "squareMultiplyIterative(a,b)"
   ]
  },
  {
   "cell_type": "code",
   "execution_count": 264,
   "metadata": {},
   "outputs": [
    {
     "data": {
      "text/plain": [
       "[[27, 39], [69, 114]]"
      ]
     },
     "execution_count": 264,
     "metadata": {},
     "output_type": "execute_result"
    }
   ],
   "source": [
    "squareMultiplyRecursive(a,b)"
   ]
  },
  {
   "cell_type": "code",
   "execution_count": null,
   "metadata": {},
   "outputs": [],
   "source": []
  },
  {
   "cell_type": "code",
   "execution_count": null,
   "metadata": {},
   "outputs": [],
   "source": []
  },
  {
   "cell_type": "code",
   "execution_count": null,
   "metadata": {},
   "outputs": [],
   "source": []
  }
 ],
 "metadata": {
  "kernelspec": {
   "display_name": "Python 3",
   "language": "python",
   "name": "python3"
  },
  "language_info": {
   "codemirror_mode": {
    "name": "ipython",
    "version": 3
   },
   "file_extension": ".py",
   "mimetype": "text/x-python",
   "name": "python",
   "nbconvert_exporter": "python",
   "pygments_lexer": "ipython3",
   "version": "3.7.5"
  }
 },
 "nbformat": 4,
 "nbformat_minor": 2
}
