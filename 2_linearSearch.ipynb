{
 "cells": [
  {
   "cell_type": "code",
   "execution_count": 14,
   "metadata": {},
   "outputs": [],
   "source": [
    "def linearSearch(arr,size,key):\n",
    "    flag=0\n",
    "    for i in range(size):\n",
    "        if arr[i]==key:\n",
    "            loc = i+1\n",
    "            flag=1\n",
    "            break\n",
    "            \n",
    "        \n",
    "    if flag==1:\n",
    "            print(\"key found at loc\", loc)\n",
    "    else:\n",
    "            print(\"key not found.\")\n",
    "        "
   ]
  },
  {
   "cell_type": "code",
   "execution_count": 16,
   "metadata": {},
   "outputs": [
    {
     "name": "stdout",
     "output_type": "stream",
     "text": [
      "key not found.\n"
     ]
    }
   ],
   "source": [
    "arr=[13,44,56,98,87,334]\n",
    "size=len(arr)\n",
    "searchKey=8\n",
    "linearSearch(arr,size,searchKey)"
   ]
  },
  {
   "cell_type": "code",
   "execution_count": null,
   "metadata": {},
   "outputs": [],
   "source": []
  }
 ],
 "metadata": {
  "kernelspec": {
   "display_name": "Python 3",
   "language": "python",
   "name": "python3"
  },
  "language_info": {
   "codemirror_mode": {
    "name": "ipython",
    "version": 3
   },
   "file_extension": ".py",
   "mimetype": "text/x-python",
   "name": "python",
   "nbconvert_exporter": "python",
   "pygments_lexer": "ipython3",
   "version": "3.7.5"
  }
 },
 "nbformat": 4,
 "nbformat_minor": 2
}
