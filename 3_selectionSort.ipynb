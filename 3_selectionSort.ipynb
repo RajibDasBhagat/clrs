{
 "cells": [
  {
   "cell_type": "code",
   "execution_count": 36,
   "metadata": {},
   "outputs": [],
   "source": [
    "def selectionSort(A,size):\n",
    "    for i in range(size):  \n",
    "        minIndex = i \n",
    "        for j in range(i+1, size): \n",
    "            if A[minIndex] > A[j]: \n",
    "                minIndex = j \n",
    "                       \n",
    "        A[i], A[minIndex] = A[minIndex], A[i]\n",
    "        print(A)"
   ]
  },
  {
   "cell_type": "code",
   "execution_count": 37,
   "metadata": {},
   "outputs": [
    {
     "name": "stdout",
     "output_type": "stream",
     "text": [
      "[1, 2, 4, 6, 5, 3]\n",
      "[1, 2, 4, 6, 5, 3]\n",
      "[1, 2, 3, 6, 5, 4]\n",
      "[1, 2, 3, 4, 5, 6]\n",
      "[1, 2, 3, 4, 5, 6]\n",
      "[1, 2, 3, 4, 5, 6]\n"
     ]
    }
   ],
   "source": [
    "inputs=[5,2,4,6,1,3]\n",
    "size=len(inputs)\n",
    "selectionSort(inputs,size)"
   ]
  },
  {
   "cell_type": "code",
   "execution_count": null,
   "metadata": {},
   "outputs": [],
   "source": []
  }
 ],
 "metadata": {
  "kernelspec": {
   "display_name": "Python 3",
   "language": "python",
   "name": "python3"
  },
  "language_info": {
   "codemirror_mode": {
    "name": "ipython",
    "version": 3
   },
   "file_extension": ".py",
   "mimetype": "text/x-python",
   "name": "python",
   "nbconvert_exporter": "python",
   "pygments_lexer": "ipython3",
   "version": "3.7.5"
  }
 },
 "nbformat": 4,
 "nbformat_minor": 2
}
