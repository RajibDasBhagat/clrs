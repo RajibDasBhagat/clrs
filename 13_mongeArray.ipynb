{
 "cells": [
  {
   "cell_type": "code",
   "execution_count": null,
   "metadata": {},
   "outputs": [],
   "source": [
    "'''\n",
    "An m-by-n matrix is said to be a Monge array if, \n",
    "for all {\\displaystyle \\scriptstyle i,\\,j,\\,k,\\,\\ell }\\scriptstyle i,\\, j,\\, k,\\, \\ell such that\n",
    "\n",
    "{\\displaystyle 1\\leq i<k\\leq m{\\text{ and }}1\\leq j<\\ell \\leq n}1\\le i < k\\le m\\text{ and }1\\le j < \\ell\\le n\n",
    "one obtains[1]\n",
    "\n",
    "{\\displaystyle A[i,j]+A[k,\\ell ]\\leq A[i,\\ell ]+A[k,j].\\,}A[i,j] + A[k,\\ell] \\le A[i,\\ell] + A[k,j].\\,\n",
    "So for any two rows and two columns of a Monge array (a 2 × 2 sub-matrix) the four elements at the intersection \n",
    "points have the property that the sum of the upper-left and lower right elements (across the main diagonal) \n",
    "is less than or equal to the sum of the lower-left and upper-right elements (across the antidiagonal).\n",
    "'''"
   ]
  },
  {
   "cell_type": "code",
   "execution_count": 2,
   "metadata": {},
   "outputs": [
    {
     "name": "stdout",
     "output_type": "stream",
     "text": [
      "rows:4\n",
      "cols:5\n",
      "Enter the entries rowwise:\n",
      "37\n",
      "23\n",
      "22\n",
      "32\n",
      "21\n",
      "6\n",
      "7\n",
      "10\n",
      "53\n",
      "34\n",
      "30\n",
      "31\n",
      "32\n",
      "13\n",
      "9\n",
      "6\n",
      "43\n",
      "21\n",
      "15\n",
      "8\n",
      "37 23 22 32 21 \n",
      "6 7 10 53 34 \n",
      "30 31 32 13 9 \n",
      "6 43 21 15 8 \n",
      "Not Monge Array\n"
     ]
    }
   ],
   "source": [
    "\n",
    "m = int(input(\"rows:\")) \n",
    "n = int(input(\"cols:\")) \n",
    "  \n",
    "# Initialize matrix \n",
    "matrix = [] \n",
    "print(\"Enter the entries rowwise:\") \n",
    "  \n",
    "# For user input \n",
    "for i in range(m):          # A for loop for row entries \n",
    "    a =[] \n",
    "    for j in range(n):      # A for loop for column entries \n",
    "         a.append(int(input())) \n",
    "    matrix.append(a) \n",
    "    \n",
    "for i in range(m): \n",
    "    for j in range(n): \n",
    "        print(matrix[i][j], end = \" \") \n",
    "    print()  \n",
    "\n",
    "flag=0\n",
    "for i in range(m-1):\n",
    "    for j in range(n-1):\n",
    "        k=i+1\n",
    "        l=j+1\n",
    "        sum1=matrix[i][j]+matrix[k][l]\n",
    "        sum2=matrix[i][l]+matrix[k][j]\n",
    "        if sum1 <= sum2:\n",
    "            flag=1\n",
    "        else:\n",
    "            flag=0\n",
    "            break\n",
    "if flag==1:\n",
    "    print(\"Monge Array\")\n",
    "else:\n",
    "    print(\"Not Monge Array\")    "
   ]
  },
  {
   "cell_type": "code",
   "execution_count": null,
   "metadata": {},
   "outputs": [],
   "source": [
    "\n",
    "    \n",
    "            "
   ]
  },
  {
   "cell_type": "code",
   "execution_count": null,
   "metadata": {},
   "outputs": [],
   "source": []
  }
 ],
 "metadata": {
  "kernelspec": {
   "display_name": "Python 3",
   "language": "python",
   "name": "python3"
  },
  "language_info": {
   "codemirror_mode": {
    "name": "ipython",
    "version": 3
   },
   "file_extension": ".py",
   "mimetype": "text/x-python",
   "name": "python",
   "nbconvert_exporter": "python",
   "pygments_lexer": "ipython3",
   "version": "3.7.5"
  }
 },
 "nbformat": 4,
 "nbformat_minor": 2
}
