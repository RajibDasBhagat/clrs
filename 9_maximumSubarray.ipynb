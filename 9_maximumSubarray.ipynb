{
 "cells": [
  {
   "cell_type": "code",
   "execution_count": 30,
   "metadata": {},
   "outputs": [],
   "source": [
    "def findMaxCrossingSubarray(arr,low,mid,high):\n",
    "    leftSum = -9999\n",
    "    sum = 0 \n",
    "    for i in range(mid,low-1,-1):\n",
    "        sum += arr[i]\n",
    "        if sum > leftSum:\n",
    "            leftSum = sum\n",
    "            leftIndex = i\n",
    "    \n",
    "    rightSum = -9999\n",
    "    sum=0\n",
    "    for j in range(mid+1,high+1):\n",
    "        sum += arr[j]\n",
    "        if sum > rightSum:\n",
    "            rightSum = sum\n",
    "            rightIndex = j    \n",
    "            \n",
    "    return (leftIndex,rightIndex,leftSum+rightSum)        "
   ]
  },
  {
   "cell_type": "code",
   "execution_count": 31,
   "metadata": {},
   "outputs": [],
   "source": [
    "def findMaximumSubarray(arr,low,high):\n",
    "    if high==low:\n",
    "        return low,high,arr[low]\n",
    "    else:\n",
    "        mid = int((low+high)/2)\n",
    "        leftLow,leftHigh,leftSum=findMaximumSubarray(arr,low,mid)\n",
    "        rightLow,rightHigh,rightSum=findMaximumSubarray(arr,mid+1,high)\n",
    "        crossLow,crossHigh,crossSum=findMaxCrossingSubarray(arr,low,mid,high)\n",
    "        \n",
    "        if leftSum >= rightSum and leftSum >= crossSum:\n",
    "            return leftLow,leftHigh,leftSum\n",
    "        elif rightSum >= leftSum and rightSum >= crossSum:\n",
    "            return rightLow,rightHigh,rightSum\n",
    "        else:\n",
    "            return crossLow,crossHigh,crossSum"
   ]
  },
  {
   "cell_type": "code",
   "execution_count": 37,
   "metadata": {},
   "outputs": [
    {
     "name": "stdout",
     "output_type": "stream",
     "text": [
      "7 10 43\n",
      "18 20 -7 12 "
     ]
    }
   ],
   "source": [
    "arr=[13,-3,-25,20,-3,-16,-23,18,20,-7,12,-5,-22,15,-4,7]\n",
    "low=0\n",
    "high=len(arr)-1\n",
    "l,h,s=findMaximumSubarray(arr,low,high)\n",
    "for i in range(l,h+1):\n",
    "    print(arr[i],end= \" \")"
   ]
  },
  {
   "cell_type": "code",
   "execution_count": null,
   "metadata": {},
   "outputs": [],
   "source": []
  }
 ],
 "metadata": {
  "kernelspec": {
   "display_name": "Python 3",
   "language": "python",
   "name": "python3"
  },
  "language_info": {
   "codemirror_mode": {
    "name": "ipython",
    "version": 3
   },
   "file_extension": ".py",
   "mimetype": "text/x-python",
   "name": "python",
   "nbconvert_exporter": "python",
   "pygments_lexer": "ipython3",
   "version": "3.7.5"
  }
 },
 "nbformat": 4,
 "nbformat_minor": 2
}
