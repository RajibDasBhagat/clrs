{
 "cells": [
  {
   "cell_type": "code",
   "execution_count": 7,
   "metadata": {},
   "outputs": [
    {
     "name": "stdout",
     "output_type": "stream",
     "text": [
      "rows:3\n",
      "cols:3\n",
      "Enter the entries rowwise:\n",
      "1\n",
      "2\n",
      "3\n",
      "44\n",
      "1\n",
      "2\n",
      "3\n",
      "44\n",
      "12\n",
      "1 2 3 \n",
      "44 1 2 \n",
      "3 44 12 \n"
     ]
    }
   ],
   "source": [
    "m = int(input(\"rows:\")) \n",
    "n = int(input(\"cols:\")) \n",
    "  \n",
    "# Initialize matrix \n",
    "matrix = [] \n",
    "print(\"Enter the entries rowwise:\") \n",
    "  \n",
    "# For user input \n",
    "for i in range(m):          # A for loop for row entries \n",
    "    a =[] \n",
    "    for j in range(n):      # A for loop for column entries \n",
    "         a.append(int(input())) \n",
    "    matrix.append(a) \n",
    "    \n",
    "for i in range(m): \n",
    "    for j in range(n): \n",
    "        print(matrix[i][j], end = \" \") \n",
    "    print()     "
   ]
  },
  {
   "cell_type": "code",
   "execution_count": null,
   "metadata": {},
   "outputs": [],
   "source": []
  }
 ],
 "metadata": {
  "kernelspec": {
   "display_name": "Python 3",
   "language": "python",
   "name": "python3"
  },
  "language_info": {
   "codemirror_mode": {
    "name": "ipython",
    "version": 3
   },
   "file_extension": ".py",
   "mimetype": "text/x-python",
   "name": "python",
   "nbconvert_exporter": "python",
   "pygments_lexer": "ipython3",
   "version": "3.7.5"
  }
 },
 "nbformat": 4,
 "nbformat_minor": 2
}
