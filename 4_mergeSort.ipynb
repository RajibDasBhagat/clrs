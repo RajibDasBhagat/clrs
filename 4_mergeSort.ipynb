{
 "cells": [
  {
   "cell_type": "code",
   "execution_count": 35,
   "metadata": {},
   "outputs": [],
   "source": [
    "# Merges two subarrays of arr[]. \n",
    "# First subarray is arr[l..m] \n",
    "# Second subarray is arr[m+1..r] \n",
    "def merge(arr, l, m, r): \n",
    "    n1 = m - l + 1\n",
    "    n2 = r - m \n",
    "    # create temp arrays \n",
    "    L = [0] * n1 \n",
    "    R = [0] * n2 \n",
    "    # Copy data to temp arrays L[] and R[] \n",
    "    for i in range(0 , n1): \n",
    "        L[i] = arr[l + i] \n",
    "    for j in range(0 , n2): \n",
    "        R[j] = arr[m + 1 + j] \n",
    "    # Merge the temp arrays back into arr[l..r] \n",
    "    i = 0     # Initial index of first subarray \n",
    "    j = 0     # Initial index of second subarray \n",
    "    k = l     # Initial index of merged subarray \n",
    "    while i < n1 and j < n2 : \n",
    "        if L[i] <= R[j]: \n",
    "            arr[k] = L[i] \n",
    "            i += 1\n",
    "        else: \n",
    "            arr[k] = R[j] \n",
    "            j += 1\n",
    "        k += 1\n",
    "    # Copy the remaining elements of L[], if there are any \n",
    "    while i < n1: \n",
    "        arr[k] = L[i] \n",
    "        i += 1\n",
    "        k += 1\n",
    "    # Copy the remaining elements of R[], if there are any \n",
    "    while j < n2: \n",
    "        arr[k] = R[j] \n",
    "        j += 1\n",
    "        k += 1\n",
    "    print(\"Left: \",L,\" Right: \",R)    \n",
    "        \n",
    "def mergeSort(arr,l,r):\n",
    "    if l < r:\n",
    "        m = int((l+r)/2)\n",
    "        mergeSort(arr,l,m)\n",
    "        mergeSort(arr,m+1,r)\n",
    "        merge(arr,l,m,r)\n",
    "    "
   ]
  },
  {
   "cell_type": "code",
   "execution_count": 36,
   "metadata": {},
   "outputs": [
    {
     "name": "stdout",
     "output_type": "stream",
     "text": [
      "Left:  [2]  Right:  [4]\n",
      "Left:  [5]  Right:  [7]\n",
      "Left:  [2, 4]  Right:  [5, 7]\n",
      "Left:  [1]  Right:  [2]\n",
      "Left:  [3]  Right:  [6]\n",
      "Left:  [1, 2]  Right:  [3, 6]\n",
      "Left:  [2, 4, 5, 7]  Right:  [1, 2, 3, 6]\n",
      "[1, 2, 2, 3, 4, 5, 6, 7]\n"
     ]
    }
   ],
   "source": [
    "arr=[2,4,5,7,1,2,3,6]\n",
    "size=len(inputs)\n",
    "mergeSort(arr,0,size-1)\n",
    "print(arr)"
   ]
  },
  {
   "cell_type": "code",
   "execution_count": null,
   "metadata": {},
   "outputs": [],
   "source": []
  }
 ],
 "metadata": {
  "kernelspec": {
   "display_name": "Python 3",
   "language": "python",
   "name": "python3"
  },
  "language_info": {
   "codemirror_mode": {
    "name": "ipython",
    "version": 3
   },
   "file_extension": ".py",
   "mimetype": "text/x-python",
   "name": "python",
   "nbconvert_exporter": "python",
   "pygments_lexer": "ipython3",
   "version": "3.7.5"
  }
 },
 "nbformat": 4,
 "nbformat_minor": 2
}
