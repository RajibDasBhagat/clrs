{
 "cells": [
  {
   "cell_type": "code",
   "execution_count": 1,
   "metadata": {},
   "outputs": [],
   "source": [
    "def insertionSortIncresingOrder(inputs,size):\n",
    "    for j in range(1,size):\n",
    "        key=inputs[j]\n",
    "        i=j-1\n",
    "        while i >= 0 and inputs[i] > key:\n",
    "            inputs[i+1] = inputs[i]\n",
    "            i = i - 1\n",
    "        inputs[i+1] = key\n",
    "        print(inputs)    "
   ]
  },
  {
   "cell_type": "code",
   "execution_count": 3,
   "metadata": {},
   "outputs": [],
   "source": [
    "def insertionSortDecresingOrder(inputs,size):\n",
    "    for j in range(1,size):\n",
    "        key=inputs[j]\n",
    "        i=j-1\n",
    "        while i >= 0 and inputs[i] < key:\n",
    "            inputs[i+1] = inputs[i]\n",
    "            i = i - 1\n",
    "        inputs[i+1] = key\n",
    "        print(inputs) "
   ]
  },
  {
   "cell_type": "code",
   "execution_count": 7,
   "metadata": {},
   "outputs": [
    {
     "name": "stdout",
     "output_type": "stream",
     "text": [
      "[2, 5, 4, 6, 1, 3]\n",
      "[2, 4, 5, 6, 1, 3]\n",
      "[2, 4, 5, 6, 1, 3]\n",
      "[1, 2, 4, 5, 6, 3]\n",
      "[1, 2, 3, 4, 5, 6]\n",
      "__________________\n",
      "[2, 1, 3, 4, 5, 6]\n",
      "[3, 2, 1, 4, 5, 6]\n",
      "[4, 3, 2, 1, 5, 6]\n",
      "[5, 4, 3, 2, 1, 6]\n",
      "[6, 5, 4, 3, 2, 1]\n"
     ]
    }
   ],
   "source": [
    "inputs=[5,2,4,6,1,3]\n",
    "size=len(inputs)\n",
    "insertionSortIncresingOrder(inputs,size)\n",
    "print(\"__________________\")\n",
    "insertionSortDecresingOrder(inputs,size)"
   ]
  },
  {
   "cell_type": "code",
   "execution_count": null,
   "metadata": {},
   "outputs": [],
   "source": []
  }
 ],
 "metadata": {
  "kernelspec": {
   "display_name": "Python 3",
   "language": "python",
   "name": "python3"
  },
  "language_info": {
   "codemirror_mode": {
    "name": "ipython",
    "version": 3
   },
   "file_extension": ".py",
   "mimetype": "text/x-python",
   "name": "python",
   "nbconvert_exporter": "python",
   "pygments_lexer": "ipython3",
   "version": "3.7.5"
  }
 },
 "nbformat": 4,
 "nbformat_minor": 2
}
