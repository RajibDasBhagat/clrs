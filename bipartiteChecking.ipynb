{
 "cells": [
  {
   "cell_type": "code",
   "execution_count": 6,
   "metadata": {},
   "outputs": [
    {
     "name": "stdout",
     "output_type": "stream",
     "text": [
      "True\n"
     ]
    }
   ],
   "source": [
    "#BFS implemention for bipartite checking\n",
    "\n",
    "from collections import defaultdict\n",
    "\n",
    "#to read input file \n",
    "def inputFile(graph):\n",
    "    with open('bfsInput.txt', 'r') as file:\n",
    "        for line in file:\n",
    "            u, v = line.split()\n",
    "            graph[int(u)].append(int(v))\n",
    "            graph[int(v)].append(int(u))\n",
    "    file.close()        \n",
    "            \n",
    "#to write to output file            \n",
    "def outputFile(path):\n",
    "    file = open(\"bipartiteOutput.txt\", \"w\")\n",
    "    file.write(path)\n",
    "    file.close()\n",
    "            \n",
    "def bfs(graph, source):\n",
    "    #array to track solution\n",
    "    #visited=[]\n",
    "    nodes=len(graph)\n",
    "    \n",
    "    #initially all nodes are unvisited and hence color = \"white\"\n",
    "    color = [\"NULL\"] * nodes  \n",
    "    \n",
    "    #source is discovered first and hence color = \"blue\"\n",
    "    color[source] = \"pink\"\n",
    "    \n",
    "    #enqueue the initial source\n",
    "    queue=[]\n",
    "    queue.append(source)\n",
    "    \n",
    "    #while queue is not empty\n",
    "    while(queue):\n",
    "                #dequeue\n",
    "                u = queue.pop(0)   \n",
    "                #print(u,end=\" \")\n",
    "                #to track the bfs path\n",
    "                #visited.append(u)\n",
    "                \n",
    "                #find all the neighbours of dequeue node and color it accordingly and calculate the distance\n",
    "                for v in range(len(graph[u])):\n",
    "                    if (color[graph[u][v]] == \"NULL\"):\n",
    "                        if(color[graph[v][u]] == \"pink\"):\n",
    "                            color[graph[u][v]] == \"blue\"\n",
    "                        elif(color[graph[v][u]] == \"blue\"):\n",
    "                            color[graph[u][v]] == \"pink\"\n",
    "                    elif(color[graph[u][v]] == color[graph[v][u]]):\n",
    "                        return False\n",
    "                        \n",
    "    return True                     \n",
    "                \n",
    "\n",
    "if __name__== \"__main__\":  \n",
    "    \n",
    "    #to read from input file\n",
    "    graph = defaultdict(list)\n",
    "    inputFile(graph)\n",
    "    \n",
    "    #breadth first search\n",
    "    solutionPath=solutionPath=bfs(graph,0)\n",
    "    \n",
    "    print(solutionPath)\n",
    "    \n",
    "    #write output  \n",
    "    outputFile(str(solutionPath))\n",
    "    "
   ]
  },
  {
   "cell_type": "code",
   "execution_count": null,
   "metadata": {},
   "outputs": [],
   "source": []
  }
 ],
 "metadata": {
  "kernelspec": {
   "display_name": "Python 3",
   "language": "python",
   "name": "python3"
  },
  "language_info": {
   "codemirror_mode": {
    "name": "ipython",
    "version": 3
   },
   "file_extension": ".py",
   "mimetype": "text/x-python",
   "name": "python",
   "nbconvert_exporter": "python",
   "pygments_lexer": "ipython3",
   "version": "3.7.5"
  }
 },
 "nbformat": 4,
 "nbformat_minor": 2
}
